{
 "cells": [
  {
   "cell_type": "code",
   "execution_count": 1,
   "id": "78ece59a",
   "metadata": {},
   "outputs": [],
   "source": [
    "from fer import FER\n",
    "import matplotlib.pyplot as plt\n",
    "import cv2\n",
    "from http.server import BaseHTTPRequestHandler, HTTPServer"
   ]
  },
  {
   "cell_type": "code",
   "execution_count": 2,
   "id": "92ad8fea",
   "metadata": {},
   "outputs": [],
   "source": [
    "hostName = \"localhost\"\n",
    "serverPort = 9999\n",
    "count = 0\n",
    "time_series_emotion = []"
   ]
  },
  {
   "cell_type": "code",
   "execution_count": 3,
   "id": "ed3d3974",
   "metadata": {},
   "outputs": [
    {
     "data": {
      "text/plain": [
       "True"
      ]
     },
     "execution_count": 3,
     "metadata": {},
     "output_type": "execute_result"
    }
   ],
   "source": [
    "cam = cv2.VideoCapture(0) #0=front-cam, 1=back-cam\n",
    "cam.set(cv2.CAP_PROP_FRAME_WIDTH, 1300)\n",
    "cam.set(cv2.CAP_PROP_FRAME_HEIGHT, 1500)\n"
   ]
  },
  {
   "cell_type": "code",
   "execution_count": 4,
   "id": "1bac3cfc",
   "metadata": {},
   "outputs": [],
   "source": [
    "class MyServer(BaseHTTPRequestHandler):\n",
    "    aggregate_emo = \"neutral\"\n",
    "    def do_GET(self):\n",
    "        global time_series_emotion\n",
    "        emotion = detectEmotion()\n",
    "        if(len(time_series_emotion) == 0 and emotion != []):\n",
    "            time_series_emotion = emotion\n",
    "\n",
    "        elif(len(emotion) != 0):\n",
    "            for key in time_series_emotion.keys():\n",
    "                time_series_emotion[key] = 0.9 * emotion[key] + 0.1 * time_series_emotion[key]\n",
    "        \n",
    "        if(len(time_series_emotion) != 0):\n",
    "            dict_emo = list(time_series_emotion.keys())\n",
    "            aggregate_emo = dict_emo[0]\n",
    "            aggregate_val = time_series_emotion[aggregate_emo]\n",
    "            for key in time_series_emotion.keys():\n",
    "                temp = time_series_emotion[key]\n",
    "                if(temp > aggregate_val):\n",
    "                    aggregate_val = temp\n",
    "                    aggregate_emo = key\n",
    "        self.send_response(200,aggregate_emo)\n",
    "        self.send_header(\"Content-type\", \"text/html\")\n",
    "        self.end_headers()\n",
    "        self.wfile.write(bytes(\"<html><head><title>https://pythonbasics.org</title></head>\", \"utf-8\"))\n",
    "        self.wfile.write(bytes(\"<p>Request: %s</p>\" % self.path, \"utf-8\"))\n",
    "        self.wfile.write(bytes(\"<body>\", \"utf-8\"))\n",
    "        self.wfile.write(bytes(\"<p></p>\", \"utf-8\"))\n",
    "        self.wfile.write(bytes(\"</body></html>\", \"utf-8\"))"
   ]
  },
  {
   "cell_type": "code",
   "execution_count": 5,
   "id": "d3aca600",
   "metadata": {},
   "outputs": [],
   "source": [
    "def detectEmotion():\n",
    "    ret, img = cam.read()    ## predict yolo\n",
    "    image_context = cv2.cvtColor(img, cv2.COLOR_BGR2RGB)\n",
    "    emo = emotion(image_context)\n",
    "    return emo"
   ]
  },
  {
   "cell_type": "code",
   "execution_count": 6,
   "id": "304e13ee",
   "metadata": {},
   "outputs": [],
   "source": [
    "def emotion(image):\n",
    "    #image_context = cv2.cvtColor(image, cv2.COLOR_BGR2RGB)\n",
    "    #image_one = plt.imread(image)\n",
    "    image_one = image\n",
    "    detector = FER(mtcnn=True)\n",
    "    # Capture all the emotions on the image\n",
    "    #plt.imshow(image_one)\n",
    "    dominant_emotion, emotion_score = detector.top_emotion(image_one)\n",
    "    emotions = detector.detect_emotions(image_one)\n",
    "    if(len(emotions) == 0):\n",
    "        return []\n",
    "    return emotions[0][\"emotions\"] #dominant_emotion"
   ]
  },
  {
   "cell_type": "code",
   "execution_count": 7,
   "id": "5b4e2792",
   "metadata": {},
   "outputs": [],
   "source": [
    "emo = detectEmotion()\n",
    "if(len(time_series_emotion) == 0):\n",
    "            time_series_emotion = emo\n",
    "\n",
    "elif(len(emo)!= 0):\n",
    "    for key in time_series_emotion.keys():\n",
    "        time_series_emotion[key] = 0.9 * emo[key] + 0.1 * time_series_emotion[key]\n",
    "else:\n",
    "    pass\n",
    "    \n"
   ]
  },
  {
   "cell_type": "code",
   "execution_count": null,
   "id": "a0922bf6",
   "metadata": {},
   "outputs": [
    {
     "name": "stdout",
     "output_type": "stream",
     "text": [
      "Server started http://localhost:9999\n"
     ]
    },
    {
     "name": "stderr",
     "output_type": "stream",
     "text": [
      "127.0.0.1 - - [28/Oct/2021 14:26:21] \"GET /detect HTTP/1.1\" 200 -\n",
      "127.0.0.1 - - [28/Oct/2021 14:26:38] \"GET /detect HTTP/1.1\" 200 -\n",
      "127.0.0.1 - - [28/Oct/2021 14:26:51] \"GET /detect HTTP/1.1\" 200 -\n",
      "127.0.0.1 - - [28/Oct/2021 14:26:55] \"GET /detect HTTP/1.1\" 200 -\n",
      "127.0.0.1 - - [28/Oct/2021 14:27:12] \"GET /detect HTTP/1.1\" 200 -\n",
      "127.0.0.1 - - [28/Oct/2021 14:27:29] \"GET /detect HTTP/1.1\" 200 -\n",
      "127.0.0.1 - - [28/Oct/2021 14:27:46] \"GET /detect HTTP/1.1\" 200 -\n",
      "127.0.0.1 - - [28/Oct/2021 14:28:03] \"GET /detect HTTP/1.1\" 200 -\n",
      "127.0.0.1 - - [28/Oct/2021 14:28:20] \"GET /detect HTTP/1.1\" 200 -\n",
      "127.0.0.1 - - [28/Oct/2021 14:28:37] \"GET /detect HTTP/1.1\" 200 -\n",
      "127.0.0.1 - - [28/Oct/2021 14:28:53] \"GET /detect HTTP/1.1\" 200 -\n",
      "127.0.0.1 - - [28/Oct/2021 14:29:10] \"GET /detect HTTP/1.1\" 200 -\n",
      "127.0.0.1 - - [28/Oct/2021 14:29:27] \"GET /detect HTTP/1.1\" 200 -\n",
      "127.0.0.1 - - [28/Oct/2021 14:29:44] \"GET /detect HTTP/1.1\" 200 -\n",
      "127.0.0.1 - - [28/Oct/2021 14:30:00] \"GET /detect HTTP/1.1\" 200 -\n",
      "127.0.0.1 - - [28/Oct/2021 14:30:17] \"GET /detect HTTP/1.1\" 200 -\n",
      "127.0.0.1 - - [28/Oct/2021 14:30:33] \"GET /detect HTTP/1.1\" 200 -\n",
      "127.0.0.1 - - [28/Oct/2021 14:30:49] \"GET /detect HTTP/1.1\" 200 -\n",
      "127.0.0.1 - - [28/Oct/2021 14:31:06] \"GET /detect HTTP/1.1\" 200 -\n",
      "127.0.0.1 - - [28/Oct/2021 14:31:22] \"GET /detect HTTP/1.1\" 200 -\n",
      "127.0.0.1 - - [28/Oct/2021 14:31:39] \"GET /detect HTTP/1.1\" 200 -\n",
      "127.0.0.1 - - [28/Oct/2021 14:31:55] \"GET /detect HTTP/1.1\" 200 -\n",
      "127.0.0.1 - - [28/Oct/2021 14:32:12] \"GET /detect HTTP/1.1\" 200 -\n",
      "127.0.0.1 - - [28/Oct/2021 14:32:28] \"GET /detect HTTP/1.1\" 200 -\n",
      "127.0.0.1 - - [28/Oct/2021 14:32:45] \"GET /detect HTTP/1.1\" 200 -\n",
      "127.0.0.1 - - [28/Oct/2021 14:33:01] \"GET /detect HTTP/1.1\" 200 -\n",
      "127.0.0.1 - - [28/Oct/2021 14:33:18] \"GET /detect HTTP/1.1\" 200 -\n",
      "127.0.0.1 - - [28/Oct/2021 14:33:34] \"GET /detect HTTP/1.1\" 200 -\n",
      "127.0.0.1 - - [28/Oct/2021 14:33:51] \"GET /detect HTTP/1.1\" 200 -\n",
      "127.0.0.1 - - [28/Oct/2021 14:34:07] \"GET /detect HTTP/1.1\" 200 -\n",
      "127.0.0.1 - - [28/Oct/2021 14:34:24] \"GET /detect HTTP/1.1\" 200 -\n",
      "127.0.0.1 - - [28/Oct/2021 14:34:41] \"GET /detect HTTP/1.1\" 200 -\n",
      "127.0.0.1 - - [28/Oct/2021 14:34:58] \"GET /detect HTTP/1.1\" 200 -\n",
      "127.0.0.1 - - [28/Oct/2021 14:35:14] \"GET /detect HTTP/1.1\" 200 -\n",
      "127.0.0.1 - - [28/Oct/2021 14:35:31] \"GET /detect HTTP/1.1\" 200 -\n",
      "127.0.0.1 - - [28/Oct/2021 14:35:48] \"GET /detect HTTP/1.1\" 200 -\n",
      "127.0.0.1 - - [28/Oct/2021 14:36:05] \"GET /detect HTTP/1.1\" 200 -\n",
      "127.0.0.1 - - [28/Oct/2021 14:36:22] \"GET /detect HTTP/1.1\" 200 -\n",
      "127.0.0.1 - - [28/Oct/2021 14:36:39] \"GET /detect HTTP/1.1\" 200 -\n",
      "127.0.0.1 - - [28/Oct/2021 14:36:56] \"GET /detect HTTP/1.1\" 200 -\n",
      "127.0.0.1 - - [28/Oct/2021 14:37:13] \"GET /detect HTTP/1.1\" 200 -\n",
      "127.0.0.1 - - [28/Oct/2021 14:37:30] \"GET /detect HTTP/1.1\" 200 -\n",
      "127.0.0.1 - - [28/Oct/2021 14:37:47] \"GET /detect HTTP/1.1\" 200 -\n",
      "127.0.0.1 - - [28/Oct/2021 14:38:04] \"GET /detect HTTP/1.1\" 200 -\n",
      "127.0.0.1 - - [28/Oct/2021 14:38:21] \"GET /detect HTTP/1.1\" 200 -\n",
      "127.0.0.1 - - [28/Oct/2021 14:38:38] \"GET /detect HTTP/1.1\" 200 -\n",
      "127.0.0.1 - - [28/Oct/2021 14:38:55] \"GET /detect HTTP/1.1\" 200 -\n",
      "127.0.0.1 - - [28/Oct/2021 14:39:12] \"GET /detect HTTP/1.1\" 200 -\n",
      "127.0.0.1 - - [28/Oct/2021 14:39:29] \"GET /detect HTTP/1.1\" 200 -\n",
      "127.0.0.1 - - [28/Oct/2021 14:39:46] \"GET /detect HTTP/1.1\" 200 -\n",
      "127.0.0.1 - - [28/Oct/2021 14:40:03] \"GET /detect HTTP/1.1\" 200 -\n",
      "127.0.0.1 - - [28/Oct/2021 14:40:20] \"GET /detect HTTP/1.1\" 200 -\n",
      "127.0.0.1 - - [28/Oct/2021 14:40:36] \"GET /detect HTTP/1.1\" 200 -\n",
      "127.0.0.1 - - [28/Oct/2021 14:40:53] \"GET /detect HTTP/1.1\" 200 -\n",
      "127.0.0.1 - - [28/Oct/2021 14:41:10] \"GET /detect HTTP/1.1\" 200 -\n",
      "127.0.0.1 - - [28/Oct/2021 14:41:37] \"GET /detect HTTP/1.1\" 200 -\n",
      "127.0.0.1 - - [28/Oct/2021 14:41:54] \"GET /detect HTTP/1.1\" 200 -\n",
      "127.0.0.1 - - [28/Oct/2021 14:42:11] \"GET /detect HTTP/1.1\" 200 -\n",
      "127.0.0.1 - - [28/Oct/2021 14:42:28] \"GET /detect HTTP/1.1\" 200 -\n",
      "127.0.0.1 - - [28/Oct/2021 14:42:45] \"GET /detect HTTP/1.1\" 200 -\n",
      "127.0.0.1 - - [28/Oct/2021 14:42:51] \"GET /detect HTTP/1.1\" 200 -\n",
      "127.0.0.1 - - [28/Oct/2021 14:43:02] \"GET /detect HTTP/1.1\" 200 -\n",
      "127.0.0.1 - - [28/Oct/2021 14:43:19] \"GET /detect HTTP/1.1\" 200 -\n",
      "127.0.0.1 - - [28/Oct/2021 14:43:26] \"GET /detect HTTP/1.1\" 200 -\n",
      "127.0.0.1 - - [28/Oct/2021 14:43:36] \"GET /detect HTTP/1.1\" 200 -\n",
      "127.0.0.1 - - [28/Oct/2021 14:43:53] \"GET /detect HTTP/1.1\" 200 -\n",
      "127.0.0.1 - - [28/Oct/2021 14:44:10] \"GET /detect HTTP/1.1\" 200 -\n",
      "127.0.0.1 - - [28/Oct/2021 14:44:18] \"GET /detect HTTP/1.1\" 200 -\n",
      "127.0.0.1 - - [28/Oct/2021 14:44:27] \"GET /detect HTTP/1.1\" 200 -\n",
      "127.0.0.1 - - [28/Oct/2021 14:44:44] \"GET /detect HTTP/1.1\" 200 -\n",
      "127.0.0.1 - - [28/Oct/2021 14:44:57] \"GET /detect HTTP/1.1\" 200 -\n",
      "127.0.0.1 - - [28/Oct/2021 14:45:01] \"GET /detect HTTP/1.1\" 200 -\n",
      "127.0.0.1 - - [28/Oct/2021 14:45:04] \"GET /detect HTTP/1.1\" 200 -\n",
      "127.0.0.1 - - [28/Oct/2021 14:45:18] \"GET /detect HTTP/1.1\" 200 -\n",
      "127.0.0.1 - - [28/Oct/2021 14:45:35] \"GET /detect HTTP/1.1\" 200 -\n",
      "127.0.0.1 - - [28/Oct/2021 14:45:52] \"GET /detect HTTP/1.1\" 200 -\n",
      "127.0.0.1 - - [28/Oct/2021 14:46:09] \"GET /detect HTTP/1.1\" 200 -\n",
      "127.0.0.1 - - [28/Oct/2021 14:46:26] \"GET /detect HTTP/1.1\" 200 -\n",
      "127.0.0.1 - - [28/Oct/2021 14:46:43] \"GET /detect HTTP/1.1\" 200 -\n",
      "127.0.0.1 - - [28/Oct/2021 14:47:00] \"GET /detect HTTP/1.1\" 200 -\n",
      "127.0.0.1 - - [28/Oct/2021 14:47:16] \"GET /detect HTTP/1.1\" 200 -\n",
      "127.0.0.1 - - [28/Oct/2021 14:47:33] \"GET /detect HTTP/1.1\" 200 -\n",
      "127.0.0.1 - - [28/Oct/2021 14:47:51] \"GET /detect HTTP/1.1\" 200 -\n",
      "127.0.0.1 - - [28/Oct/2021 14:48:07] \"GET /detect HTTP/1.1\" 200 -\n",
      "127.0.0.1 - - [28/Oct/2021 14:48:25] \"GET /detect HTTP/1.1\" 200 -\n",
      "127.0.0.1 - - [28/Oct/2021 14:48:35] \"GET /detect HTTP/1.1\" 200 -\n",
      "127.0.0.1 - - [28/Oct/2021 14:48:41] \"GET /detect HTTP/1.1\" 200 -\n",
      "127.0.0.1 - - [28/Oct/2021 14:48:59] \"GET /detect HTTP/1.1\" 200 -\n",
      "127.0.0.1 - - [28/Oct/2021 14:49:16] \"GET /detect HTTP/1.1\" 200 -\n",
      "127.0.0.1 - - [28/Oct/2021 14:49:33] \"GET /detect HTTP/1.1\" 200 -\n",
      "127.0.0.1 - - [28/Oct/2021 14:49:50] \"GET /detect HTTP/1.1\" 200 -\n",
      "127.0.0.1 - - [28/Oct/2021 14:50:07] \"GET /detect HTTP/1.1\" 200 -\n",
      "127.0.0.1 - - [28/Oct/2021 14:50:24] \"GET /detect HTTP/1.1\" 200 -\n",
      "127.0.0.1 - - [28/Oct/2021 14:50:30] \"GET /detect HTTP/1.1\" 200 -\n",
      "127.0.0.1 - - [28/Oct/2021 14:50:41] \"GET /detect HTTP/1.1\" 200 -\n",
      "127.0.0.1 - - [28/Oct/2021 14:50:58] \"GET /detect HTTP/1.1\" 200 -\n",
      "127.0.0.1 - - [28/Oct/2021 14:51:15] \"GET /detect HTTP/1.1\" 200 -\n",
      "127.0.0.1 - - [28/Oct/2021 14:51:17] \"GET /detect HTTP/1.1\" 200 -\n",
      "127.0.0.1 - - [28/Oct/2021 14:51:32] \"GET /detect HTTP/1.1\" 200 -\n",
      "127.0.0.1 - - [28/Oct/2021 14:51:49] \"GET /detect HTTP/1.1\" 200 -\n",
      "127.0.0.1 - - [28/Oct/2021 14:51:53] \"GET /detect HTTP/1.1\" 200 -\n",
      "127.0.0.1 - - [28/Oct/2021 14:52:05] \"GET /detect HTTP/1.1\" 200 -\n",
      "127.0.0.1 - - [28/Oct/2021 14:52:22] \"GET /detect HTTP/1.1\" 200 -\n",
      "127.0.0.1 - - [28/Oct/2021 14:52:39] \"GET /detect HTTP/1.1\" 200 -\n",
      "127.0.0.1 - - [28/Oct/2021 14:52:56] \"GET /detect HTTP/1.1\" 200 -\n",
      "127.0.0.1 - - [28/Oct/2021 14:53:13] \"GET /detect HTTP/1.1\" 200 -\n",
      "127.0.0.1 - - [28/Oct/2021 14:53:31] \"GET /detect HTTP/1.1\" 200 -\n",
      "127.0.0.1 - - [28/Oct/2021 14:53:48] \"GET /detect HTTP/1.1\" 200 -\n",
      "127.0.0.1 - - [28/Oct/2021 14:54:05] \"GET /detect HTTP/1.1\" 200 -\n",
      "127.0.0.1 - - [28/Oct/2021 14:54:22] \"GET /detect HTTP/1.1\" 200 -\n",
      "127.0.0.1 - - [28/Oct/2021 14:54:34] \"GET /detect HTTP/1.1\" 200 -\n",
      "127.0.0.1 - - [28/Oct/2021 14:54:39] \"GET /detect HTTP/1.1\" 200 -\n"
     ]
    }
   ],
   "source": [
    "webServer = HTTPServer((hostName, serverPort), MyServer)\n",
    "print(\"Server started http://%s:%s\" % (hostName, serverPort))\n",
    "\n",
    "try:\n",
    "    webServer.serve_forever()\n",
    "except KeyboardInterrupt:\n",
    "    pass\n",
    "\n",
    "webServer.server_close()\n",
    "cam.release()\n",
    "print(\"Server stopped.\")"
   ]
  },
  {
   "cell_type": "code",
   "execution_count": null,
   "id": "940055c1",
   "metadata": {},
   "outputs": [],
   "source": [
    "\n"
   ]
  },
  {
   "cell_type": "code",
   "execution_count": null,
   "id": "f8c61ce0",
   "metadata": {},
   "outputs": [],
   "source": []
  },
  {
   "cell_type": "code",
   "execution_count": null,
   "id": "249aed55",
   "metadata": {},
   "outputs": [],
   "source": []
  }
 ],
 "metadata": {
  "kernelspec": {
   "display_name": "Python 3",
   "language": "python",
   "name": "python3"
  },
  "language_info": {
   "codemirror_mode": {
    "name": "ipython",
    "version": 3
   },
   "file_extension": ".py",
   "mimetype": "text/x-python",
   "name": "python",
   "nbconvert_exporter": "python",
   "pygments_lexer": "ipython3",
   "version": "3.8.8"
  }
 },
 "nbformat": 4,
 "nbformat_minor": 5
}
