{
 "cells": [
  {
   "cell_type": "code",
   "execution_count": 171,
   "id": "78ece59a",
   "metadata": {},
   "outputs": [],
   "source": [
    "from fer import FER\n",
    "import matplotlib.pyplot as plt\n",
    "import cv2\n",
    "from http.server import BaseHTTPRequestHandler, HTTPServer"
   ]
  },
  {
   "cell_type": "code",
   "execution_count": 172,
   "id": "92ad8fea",
   "metadata": {},
   "outputs": [],
   "source": [
    "hostName = \"localhost\"\n",
    "serverPort = 9999\n",
    "count = 0\n",
    "time_series_emotion = []"
   ]
  },
  {
   "cell_type": "code",
   "execution_count": 173,
   "id": "ed3d3974",
   "metadata": {},
   "outputs": [
    {
     "data": {
      "text/plain": [
       "True"
      ]
     },
     "execution_count": 173,
     "metadata": {},
     "output_type": "execute_result"
    }
   ],
   "source": [
    "cam = cv2.VideoCapture(0) #0=front-cam, 1=back-cam\n",
    "cam.set(cv2.CAP_PROP_FRAME_WIDTH, 1300)\n",
    "cam.set(cv2.CAP_PROP_FRAME_HEIGHT, 1500)\n"
   ]
  },
  {
   "cell_type": "code",
   "execution_count": 174,
   "id": "1bac3cfc",
   "metadata": {},
   "outputs": [],
   "source": [
    "class MyServer(BaseHTTPRequestHandler):\n",
    "    aggregate_emo = \"neutral\"\n",
    "    def do_GET(self):\n",
    "        global time_series_emotion\n",
    "        emotion = detectEmotion()\n",
    "        if(len(time_series_emotion) == 0 and emotion != []):\n",
    "            time_series_emotion = emotion\n",
    "\n",
    "        elif(len(emotion) != 0):\n",
    "            for key in time_series_emotion.keys():\n",
    "                time_series_emotion[key] = 0.9 * emotion[key] + 0.1 * time_series_emotion[key]\n",
    "        \n",
    "        if(len(time_series_emotion) != 0):\n",
    "            dict_emo = list(time_series_emotion.keys())\n",
    "            aggregate_emo = dict_emo[0]\n",
    "            aggregate_val = time_series_emotion[aggregate_emo]\n",
    "            for key in time_series_emotion.keys():\n",
    "                temp = time_series_emotion[key]\n",
    "                if(temp > aggregate_val):\n",
    "                    aggregate_val = temp\n",
    "                    aggregate_emo = key\n",
    "        self.send_response(200,aggregate_emo)\n",
    "        self.send_header(\"Content-type\", \"text/html\")\n",
    "        self.end_headers()\n",
    "        self.wfile.write(bytes(\"<html><head><title>https://pythonbasics.org</title></head>\", \"utf-8\"))\n",
    "        self.wfile.write(bytes(\"<p>Request: %s</p>\" % self.path, \"utf-8\"))\n",
    "        self.wfile.write(bytes(\"<body>\", \"utf-8\"))\n",
    "        self.wfile.write(bytes(\"<p></p>\", \"utf-8\"))\n",
    "        self.wfile.write(bytes(\"</body></html>\", \"utf-8\"))"
   ]
  },
  {
   "cell_type": "code",
   "execution_count": 175,
   "id": "d3aca600",
   "metadata": {},
   "outputs": [],
   "source": [
    "def detectEmotion():\n",
    "    ret, img = cam.read()    ## predict yolo\n",
    "    image_context = cv2.cvtColor(img, cv2.COLOR_BGR2RGB)\n",
    "    emo = emotion(image_context)\n",
    "    return emo"
   ]
  },
  {
   "cell_type": "code",
   "execution_count": 176,
   "id": "304e13ee",
   "metadata": {},
   "outputs": [],
   "source": [
    "def emotion(image):\n",
    "    #image_context = cv2.cvtColor(image, cv2.COLOR_BGR2RGB)\n",
    "    #image_one = plt.imread(image)\n",
    "    image_one = image\n",
    "    detector = FER(mtcnn=True)\n",
    "    # Capture all the emotions on the image\n",
    "    #plt.imshow(image_one)\n",
    "    dominant_emotion, emotion_score = detector.top_emotion(image_one)\n",
    "    emotions = detector.detect_emotions(image_one)\n",
    "    if(len(emotions) == 0):\n",
    "        return []\n",
    "    return emotions[0][\"emotions\"] #dominant_emotion"
   ]
  },
  {
   "cell_type": "code",
   "execution_count": 177,
   "id": "5b4e2792",
   "metadata": {},
   "outputs": [],
   "source": [
    "emo = detectEmotion()\n",
    "if(len(time_series_emotion) == 0):\n",
    "            time_series_emotion = emo\n",
    "\n",
    "elif(len(emo)!= 0):\n",
    "    for key in time_series_emotion.keys():\n",
    "        time_series_emotion[key] = 0.9 * emo[key] + 0.1 * time_series_emotion[key]\n",
    "else:\n",
    "    pass\n",
    "    \n"
   ]
  },
  {
   "cell_type": "code",
   "execution_count": null,
   "id": "a0922bf6",
   "metadata": {},
   "outputs": [
    {
     "name": "stdout",
     "output_type": "stream",
     "text": [
      "Server started http://localhost:9999\n"
     ]
    },
    {
     "name": "stderr",
     "output_type": "stream",
     "text": [
      "127.0.0.1 - - [28/Oct/2021 13:07:36] \"GET /detect HTTP/1.1\" 200 -\n",
      "127.0.0.1 - - [28/Oct/2021 13:07:54] \"GET /detect HTTP/1.1\" 200 -\n",
      "127.0.0.1 - - [28/Oct/2021 13:08:11] \"GET /detect HTTP/1.1\" 200 -\n",
      "127.0.0.1 - - [28/Oct/2021 13:08:29] \"GET /detect HTTP/1.1\" 200 -\n",
      "----------------------------------------\n",
      "Exception happened during processing of request from ('127.0.0.1', 56609)\n",
      "Traceback (most recent call last):\n",
      "  File \"C:\\Users\\adity\\anaconda3\\lib\\socketserver.py\", line 316, in _handle_request_noblock\n",
      "    self.process_request(request, client_address)\n",
      "  File \"C:\\Users\\adity\\anaconda3\\lib\\socketserver.py\", line 347, in process_request\n",
      "    self.finish_request(request, client_address)\n",
      "  File \"C:\\Users\\adity\\anaconda3\\lib\\socketserver.py\", line 360, in finish_request\n",
      "    self.RequestHandlerClass(request, client_address, self)\n",
      "  File \"C:\\Users\\adity\\anaconda3\\lib\\socketserver.py\", line 720, in __init__\n",
      "    self.handle()\n",
      "  File \"C:\\Users\\adity\\anaconda3\\lib\\http\\server.py\", line 427, in handle\n",
      "    self.handle_one_request()\n",
      "  File \"C:\\Users\\adity\\anaconda3\\lib\\http\\server.py\", line 415, in handle_one_request\n",
      "    method()\n",
      "  File \"<ipython-input-174-47e0d7786014>\", line 24, in do_GET\n",
      "    self.end_headers()\n",
      "  File \"C:\\Users\\adity\\anaconda3\\lib\\http\\server.py\", line 529, in end_headers\n",
      "    self.flush_headers()\n",
      "  File \"C:\\Users\\adity\\anaconda3\\lib\\http\\server.py\", line 533, in flush_headers\n",
      "    self.wfile.write(b\"\".join(self._headers_buffer))\n",
      "  File \"C:\\Users\\adity\\anaconda3\\lib\\socketserver.py\", line 799, in write\n",
      "    self._sock.sendall(b)\n",
      "ConnectionResetError: [WinError 10054] An existing connection was forcibly closed by the remote host\n",
      "----------------------------------------\n"
     ]
    }
   ],
   "source": [
    "webServer = HTTPServer((hostName, serverPort), MyServer)\n",
    "print(\"Server started http://%s:%s\" % (hostName, serverPort))\n",
    "\n",
    "try:\n",
    "    webServer.serve_forever()\n",
    "except KeyboardInterrupt:\n",
    "    pass\n",
    "\n",
    "webServer.server_close()\n",
    "cam.release()\n",
    "print(\"Server stopped.\")"
   ]
  },
  {
   "cell_type": "code",
   "execution_count": null,
   "id": "940055c1",
   "metadata": {},
   "outputs": [],
   "source": [
    "\n"
   ]
  },
  {
   "cell_type": "code",
   "execution_count": null,
   "id": "f8c61ce0",
   "metadata": {},
   "outputs": [],
   "source": []
  },
  {
   "cell_type": "code",
   "execution_count": null,
   "id": "249aed55",
   "metadata": {},
   "outputs": [],
   "source": []
  }
 ],
 "metadata": {
  "kernelspec": {
   "display_name": "Python 3",
   "language": "python",
   "name": "python3"
  },
  "language_info": {
   "codemirror_mode": {
    "name": "ipython",
    "version": 3
   },
   "file_extension": ".py",
   "mimetype": "text/x-python",
   "name": "python",
   "nbconvert_exporter": "python",
   "pygments_lexer": "ipython3",
   "version": "3.8.8"
  }
 },
 "nbformat": 4,
 "nbformat_minor": 5
}
